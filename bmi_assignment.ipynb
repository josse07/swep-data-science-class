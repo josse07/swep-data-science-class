{
 "cells": [
  {
   "cell_type": "code",
   "execution_count": 14,
   "id": "32bcaa7a-9d39-40f0-b36c-967f0c14dfbb",
   "metadata": {},
   "outputs": [
    {
     "name": "stdin",
     "output_type": "stream",
     "text": [
      " 100\n",
      " 4\n"
     ]
    },
    {
     "name": "stdout",
     "output_type": "stream",
     "text": [
      "you are an heavy weight\n"
     ]
    }
   ],
   "source": [
    "def BMI():\n",
    "    return float(weight_in_lb/height_in_inches)\n",
    "\n",
    "weight_in_lb = int(input())\n",
    "height_in_inches = int(input())\n",
    "weight = BMI()\n",
    "if weight <= 18:\n",
    "    print('you are a light weight')\n",
    "elif weight >= 18 and weight <= 25:\n",
    "    print('you are an heavy weight')\n",
    "else:\n",
    "    print('No weight registered')\n"
   ]
  },
  {
   "cell_type": "code",
   "execution_count": null,
   "id": "85ef979c-8866-4008-b6d5-79c34b8d0201",
   "metadata": {},
   "outputs": [],
   "source": []
  },
  {
   "cell_type": "code",
   "execution_count": null,
   "id": "5f9bfeae-c94c-4d0e-9a34-73a34630a57f",
   "metadata": {},
   "outputs": [],
   "source": []
  }
 ],
 "metadata": {
  "kernelspec": {
   "display_name": "Python 3 (ipykernel)",
   "language": "python",
   "name": "python3"
  },
  "language_info": {
   "codemirror_mode": {
    "name": "ipython",
    "version": 3
   },
   "file_extension": ".py",
   "mimetype": "text/x-python",
   "name": "python",
   "nbconvert_exporter": "python",
   "pygments_lexer": "ipython3",
   "version": "3.9.13"
  }
 },
 "nbformat": 4,
 "nbformat_minor": 5
}
